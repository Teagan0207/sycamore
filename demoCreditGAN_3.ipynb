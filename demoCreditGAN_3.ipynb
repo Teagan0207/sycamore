{
  "nbformat": 4,
  "nbformat_minor": 0,
  "metadata": {
    "colab": {
      "name": "demoCreditGAN_3.ipynb",
      "provenance": [],
      "collapsed_sections": [],
      "toc_visible": true,
      "include_colab_link": true
    },
    "kernelspec": {
      "name": "python3",
      "display_name": "Python 3"
    },
    "accelerator": "GPU"
  },
  "cells": [
    {
      "cell_type": "markdown",
      "metadata": {
        "id": "view-in-github",
        "colab_type": "text"
      },
      "source": [
        "<a href=\"https://colab.research.google.com/github/Teagan0207/sycamore/blob/master/demoCreditGAN_3.ipynb\" target=\"_parent\"><img src=\"https://colab.research.google.com/assets/colab-badge.svg\" alt=\"Open In Colab\"/></a>"
      ]
    },
    {
      "cell_type": "code",
      "metadata": {
        "id": "eRKPxCEzgSJW",
        "colab_type": "code",
        "colab": {}
      },
      "source": [
        "#demoCreditGAN.py\n",
        "# This program aims to use DC-GAN to overcome imbalance in credit risk scoring\n"
      ],
      "execution_count": 0,
      "outputs": []
    },
    {
      "cell_type": "code",
      "metadata": {
        "id": "2S1CnCZxgvXB",
        "colab_type": "code",
        "colab": {}
      },
      "source": [
        "import pandas as pd\n",
        "import numpy as np\n",
        "import warnings\n",
        "warnings.filterwarnings('ignore')\n"
      ],
      "execution_count": 0,
      "outputs": []
    },
    {
      "cell_type": "code",
      "metadata": {
        "id": "DzZxbVFZg50d",
        "colab_type": "code",
        "outputId": "52fe7754-39ee-444b-9a11-b1e44e32703e",
        "colab": {
          "resources": {
            "http://localhost:8080/nbextensions/google.colab/files.js": {
              "data": "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",
              "ok": true,
              "headers": [
                [
                  "content-type",
                  "application/javascript"
                ]
              ],
              "status": 200,
              "status_text": ""
            }
          },
          "base_uri": "https://localhost:8080/",
          "height": 72
        }
      },
      "source": [
        "# read data to cloud\n",
        "from google.colab import files\n",
        "uploaded=files.upload() "
      ],
      "execution_count": 0,
      "outputs": [
        {
          "output_type": "display_data",
          "data": {
            "text/html": [
              "\n",
              "     <input type=\"file\" id=\"files-b4f0ba6f-c241-48c2-9f6c-ff5902c392b9\" name=\"files[]\" multiple disabled />\n",
              "     <output id=\"result-b4f0ba6f-c241-48c2-9f6c-ff5902c392b9\">\n",
              "      Upload widget is only available when the cell has been executed in the\n",
              "      current browser session. Please rerun this cell to enable.\n",
              "      </output>\n",
              "      <script src=\"/nbextensions/google.colab/files.js\"></script> "
            ],
            "text/plain": [
              "<IPython.core.display.HTML object>"
            ]
          },
          "metadata": {
            "tags": []
          }
        },
        {
          "output_type": "stream",
          "text": [
            "Saving credit_risk_clean_data.csv to credit_risk_clean_data.csv\n"
          ],
          "name": "stdout"
        }
      ]
    },
    {
      "cell_type": "markdown",
      "metadata": {
        "id": "4ZCCJVyGjpIV",
        "colab_type": "text"
      },
      "source": [
        ""
      ]
    },
    {
      "cell_type": "code",
      "metadata": {
        "id": "Wq4cIU9Qj7gb",
        "colab_type": "code",
        "outputId": "95d4bdf7-01cf-43c7-ec89-eb95655e66cc",
        "colab": {
          "base_uri": "https://localhost:8080/",
          "height": 176
        }
      },
      "source": [
        "# now read it officially as dataFrame\n",
        "import io\n",
        "filename='credit_risk_clean_data.csv'\n",
        "# the onlt difference is io.BytesIO(uploaded(...))\n",
        "credit_data=pd.read_csv(io.BytesIO(uploaded[filename]))\n",
        "print(credit_data.shape)\n",
        "print(credit_data.head())"
      ],
      "execution_count": 0,
      "outputs": [
        {
          "output_type": "stream",
          "text": [
            "(120269, 11)\n",
            "   Delinquency  Revolving Credit Percentage  ...  Num Late 90  Num Employees\n",
            "0            1                     0.766127  ...            0            2.0\n",
            "1            0                     0.957151  ...            0            1.0\n",
            "2            0                     0.658180  ...            0            0.0\n",
            "3            0                     0.233810  ...            0            0.0\n",
            "4            0                     0.907239  ...            0            0.0\n",
            "\n",
            "[5 rows x 11 columns]\n"
          ],
          "name": "stdout"
        }
      ]
    },
    {
      "cell_type": "code",
      "metadata": {
        "id": "2Y_A1dQokV39",
        "colab_type": "code",
        "outputId": "205ce807-0795-436a-bdbb-141d0ee9d7a8",
        "colab": {
          "base_uri": "https://localhost:8080/",
          "height": 214
        }
      },
      "source": [
        "# start a copy\n",
        "df=credit_data\n",
        "df.head()\n"
      ],
      "execution_count": 0,
      "outputs": [
        {
          "output_type": "execute_result",
          "data": {
            "text/html": [
              "<div>\n",
              "<style scoped>\n",
              "    .dataframe tbody tr th:only-of-type {\n",
              "        vertical-align: middle;\n",
              "    }\n",
              "\n",
              "    .dataframe tbody tr th {\n",
              "        vertical-align: top;\n",
              "    }\n",
              "\n",
              "    .dataframe thead th {\n",
              "        text-align: right;\n",
              "    }\n",
              "</style>\n",
              "<table border=\"1\" class=\"dataframe\">\n",
              "  <thead>\n",
              "    <tr style=\"text-align: right;\">\n",
              "      <th></th>\n",
              "      <th>Delinquency</th>\n",
              "      <th>Revolving Credit Percentage</th>\n",
              "      <th>Capital Reserves</th>\n",
              "      <th>Num Late 60</th>\n",
              "      <th>Debt Ratio</th>\n",
              "      <th>Monthly Income</th>\n",
              "      <th>Num Credit Lines</th>\n",
              "      <th>Num Late Past 90</th>\n",
              "      <th>Num Real Estate</th>\n",
              "      <th>Num Late 90</th>\n",
              "      <th>Num Employees</th>\n",
              "    </tr>\n",
              "  </thead>\n",
              "  <tbody>\n",
              "    <tr>\n",
              "      <th>0</th>\n",
              "      <td>1</td>\n",
              "      <td>0.766127</td>\n",
              "      <td>45</td>\n",
              "      <td>2</td>\n",
              "      <td>0.802982</td>\n",
              "      <td>9120.0</td>\n",
              "      <td>13</td>\n",
              "      <td>0</td>\n",
              "      <td>6</td>\n",
              "      <td>0</td>\n",
              "      <td>2.0</td>\n",
              "    </tr>\n",
              "    <tr>\n",
              "      <th>1</th>\n",
              "      <td>0</td>\n",
              "      <td>0.957151</td>\n",
              "      <td>40</td>\n",
              "      <td>0</td>\n",
              "      <td>0.121876</td>\n",
              "      <td>2600.0</td>\n",
              "      <td>4</td>\n",
              "      <td>0</td>\n",
              "      <td>0</td>\n",
              "      <td>0</td>\n",
              "      <td>1.0</td>\n",
              "    </tr>\n",
              "    <tr>\n",
              "      <th>2</th>\n",
              "      <td>0</td>\n",
              "      <td>0.658180</td>\n",
              "      <td>38</td>\n",
              "      <td>1</td>\n",
              "      <td>0.085113</td>\n",
              "      <td>3042.0</td>\n",
              "      <td>2</td>\n",
              "      <td>1</td>\n",
              "      <td>0</td>\n",
              "      <td>0</td>\n",
              "      <td>0.0</td>\n",
              "    </tr>\n",
              "    <tr>\n",
              "      <th>3</th>\n",
              "      <td>0</td>\n",
              "      <td>0.233810</td>\n",
              "      <td>30</td>\n",
              "      <td>0</td>\n",
              "      <td>0.036050</td>\n",
              "      <td>3300.0</td>\n",
              "      <td>5</td>\n",
              "      <td>0</td>\n",
              "      <td>0</td>\n",
              "      <td>0</td>\n",
              "      <td>0.0</td>\n",
              "    </tr>\n",
              "    <tr>\n",
              "      <th>4</th>\n",
              "      <td>0</td>\n",
              "      <td>0.907239</td>\n",
              "      <td>49</td>\n",
              "      <td>1</td>\n",
              "      <td>0.024926</td>\n",
              "      <td>63588.0</td>\n",
              "      <td>7</td>\n",
              "      <td>0</td>\n",
              "      <td>1</td>\n",
              "      <td>0</td>\n",
              "      <td>0.0</td>\n",
              "    </tr>\n",
              "  </tbody>\n",
              "</table>\n",
              "</div>"
            ],
            "text/plain": [
              "   Delinquency  Revolving Credit Percentage  ...  Num Late 90  Num Employees\n",
              "0            1                     0.766127  ...            0            2.0\n",
              "1            0                     0.957151  ...            0            1.0\n",
              "2            0                     0.658180  ...            0            0.0\n",
              "3            0                     0.233810  ...            0            0.0\n",
              "4            0                     0.907239  ...            0            0.0\n",
              "\n",
              "[5 rows x 11 columns]"
            ]
          },
          "metadata": {
            "tags": []
          },
          "execution_count": 226
        }
      ]
    },
    {
      "cell_type": "code",
      "metadata": {
        "id": "EbCg7uLhmJrP",
        "colab_type": "code",
        "outputId": "39d92c5f-3ecb-47da-9774-e927653ce3f2",
        "colab": {
          "base_uri": "https://localhost:8080/",
          "height": 34
        }
      },
      "source": [
        "\n",
        "test=df.drop('Delinquency',axis=1)  # drop the 'Deliquency' column\n",
        "test=test.reset_index(drop=True)\n",
        "## reshape data to 3D\n",
        "test=test.values.reshape(test.shape[0], test.shape[1],1)\n",
        "print(test.shape)\n"
      ],
      "execution_count": 0,
      "outputs": [
        {
          "output_type": "stream",
          "text": [
            "(120269, 10, 1)\n"
          ],
          "name": "stdout"
        }
      ]
    },
    {
      "cell_type": "code",
      "metadata": {
        "id": "zC6od3pWrK9v",
        "colab_type": "code",
        "colab": {}
      },
      "source": [
        "# do normalization\n",
        "normalization_bit=0\n",
        "if normalization_bit:\n",
        "  from sklearn.preprocessing import StandardScaler\n",
        "  scaler=StandardScaler()\n",
        "  scaler.fit(credit_data.iloc[:,1:credit_data.shape[1]])\n",
        "  normalized_data=scaler.transform(credit_data.iloc[:,1:credit_data.shape[1]])\n",
        "  credit_data_.iloc[:,1:credit_data.shape[1]]=normalized_data\n",
        "# X_test.loc[:]=sc.transform(X_test.loc[:])"
      ],
      "execution_count": 0,
      "outputs": []
    },
    {
      "cell_type": "code",
      "metadata": {
        "id": "FIaA_x3lq4pr",
        "colab_type": "code",
        "outputId": "587bcdc7-50ed-412d-a347-d6275592e392",
        "colab": {
          "base_uri": "https://localhost:8080/",
          "height": 176
        }
      },
      "source": [
        "y=credit_data['Delinquency']\n",
        "print(credit_data.head())\n",
        "## minority data\n",
        "real=credit_data[credit_data['Delinquency']==1]\n",
        "real=real.drop('Delinquency', axis=1)\n",
        "print(real.shape)\n",
        "\n",
        "\n",
        "## Majority type data\n",
        "fake=credit_data[credit_data['Delinquency']==0]\n",
        "fake=fake.drop('Delinquency', axis=1)\n",
        "#fake.shape\n",
        "#type(fake)"
      ],
      "execution_count": 0,
      "outputs": [
        {
          "output_type": "stream",
          "text": [
            "   Delinquency  Revolving Credit Percentage  ...  Num Late 90  Num Employees\n",
            "0            1                     0.766127  ...            0            2.0\n",
            "1            0                     0.957151  ...            0            1.0\n",
            "2            0                     0.658180  ...            0            0.0\n",
            "3            0                     0.233810  ...            0            0.0\n",
            "4            0                     0.907239  ...            0            0.0\n",
            "\n",
            "[5 rows x 11 columns]\n",
            "(8357, 10)\n"
          ],
          "name": "stdout"
        }
      ]
    },
    {
      "cell_type": "code",
      "metadata": {
        "id": "kOmKj0m1rZ4y",
        "colab_type": "code",
        "colab": {}
      },
      "source": [
        "## reshaape data for CNN\n",
        "real_=real.values.reshape(real.shape[0], real.shape[1],1) # minority type\n",
        "fake_=fake.values.reshape(fake.shape[0], fake.shape[1],1)  # majority type\n",
        "#print(type(real_))"
      ],
      "execution_count": 0,
      "outputs": []
    },
    {
      "cell_type": "code",
      "metadata": {
        "id": "znMENLFEvWo-",
        "colab_type": "code",
        "colab": {}
      },
      "source": [
        "import os\n",
        "import tensorflow as tf\n",
        "from keras.utils import plot_model\n",
        "import pydot\n",
        "import graphviz\n",
        "import numpy as np # linear algebra\n",
        "from sklearn.model_selection import train_test_split\n",
        "import pandas as pd # data processing, CSV file I/O (e.g. pd.read_csv)\n",
        "from tqdm import tqdm\n",
        "from numpy import expand_dims, zeros, ones, vstack\n",
        "from numpy.random import randn, randint\n",
        "from keras.optimizers import Adam, SGD\n",
        "from keras.models import Sequential  \n",
        "from keras.layers import Dense, Reshape, Flatten,Conv1D, Conv2D,UpSampling1D, Conv2DTranspose, LeakyReLU, Dropout, BatchNormalization  \n",
        "from matplotlib import pyplot\n",
        "from keras.preprocessing import image\n",
        "from cv2 import cv2\n",
        "from PIL import Image\n",
        "config = tf.ConfigProto()\n",
        "config.gpu_options.allow_growth = True\n",
        "sess = tf.Session(config=config)"
      ],
      "execution_count": 0,
      "outputs": []
    },
    {
      "cell_type": "code",
      "metadata": {
        "id": "Q-vlQURfvhpi",
        "colab_type": "code",
        "colab": {}
      },
      "source": [
        "## define disctiminator by CNN\n",
        "## No pooling procedure for CNN\n",
        "\n",
        "## 1D-CNN\n",
        "\n",
        "def define_discriminator(in_shape=(10,1)):\n",
        "  \n",
        "  ## input shape is the shape of each sample with n=10 elements\n",
        "\n",
        "    model = Sequential()\n",
        "    \n",
        "    # input layer with size 10x1 (a sample vecor)\n",
        "    # stride default :1\n",
        "    # kernel size=2\n",
        "    # filter=64 (# neuron)\n",
        "    \n",
        "    # convoultion layer 1\n",
        "    model.add(Conv1D(64, 2, padding='same', input_shape=in_shape))\n",
        "    # 𝑓1(𝑥)=max(0,𝑥)−𝛼max(0,−𝑥)\n",
        "    # leaky ReLU has an alpha term\n",
        "    model.add(LeakyReLU(alpha=0.2))\n",
        "\n",
        "     # convoultion layer 2\n",
        "    model.add(Conv1D(128, 2, strides=2, padding='same'))\n",
        "    model.add(LeakyReLU(alpha=0.2))\n",
        "\n",
        "    ## DO batch normalaization\n",
        "    model.add(BatchNormalization())\n",
        "\n",
        "    # convoultion layer 3\n",
        "    model.add(Conv1D(64, 2, strides=2, padding='same'))\n",
        "    model.add(LeakyReLU(alpha=0.2))\n",
        "\n",
        "   # convoultion layer 4\n",
        "    model.add(Conv1D(32, 2, strides=2, padding='same'))\n",
        "    model.add(LeakyReLU(alpha=0.2))\n",
        "\n",
        "    model.add(BatchNormalization())\n",
        "   \n",
        "   # falttern layer \n",
        "    model.add(Flatten())\n",
        "  \n",
        "  # dense layer\n",
        "    model.add(Dense(64))\n",
        "    model.add(Activation('tanh'))\n",
        "    model.add(Dropout(0.1))\n",
        "\n",
        "  ## output layer (dense layer 2)\n",
        "    model.add(Dense(1, activation='sigmoid'))\n",
        "   \n",
        "  # compile discrinator\n",
        "  # The learning rate will decide the loss change somewhat\n",
        "    # use AMAM optimizer \n",
        "    opt = Adam(lr=0.0001, beta_1=0.9)  # learning rate is super important!!\n",
        "\n",
        "  ## discrimator's 1D-CNN \n",
        "    model.compile(loss='binary_crossentropy', optimizer=opt, metrics=['accuracy'])\n",
        "   \n",
        "    return model"
      ],
      "execution_count": 0,
      "outputs": []
    },
    {
      "cell_type": "code",
      "metadata": {
        "id": "BSpFiVVbOFtc",
        "colab_type": "code",
        "colab": {}
      },
      "source": [
        "## define a generator by 1D-CNN\n",
        "## Generate will generate minority and majority samples\n",
        "\n",
        "def define_generator(latent_dim):\n",
        "    model = Sequential()\n",
        "\n",
        "    n_nodes = 256 * 2\n",
        "  \n",
        "\n",
        "  ## dense layer 1\n",
        "\n",
        "    model.add(Dense(n_nodes, input_dim=latent_dim))\n",
        "    model.add(LeakyReLU(alpha=0.2))\n",
        "    model.add(Dropout(0.30))\n",
        "    model.add(Reshape((2,256)))\n",
        "    model.add(BatchNormalization())\n",
        "    model.add(LeakyReLU(alpha=0.2))\n",
        "\n",
        "    # upsampling twice for input\n",
        "\n",
        "    model.add(UpSampling1D(size=2))\n",
        "    ## convolution layer 1\n",
        "    model.add(Conv1D(128,3,activation='relu', padding='same'))\n",
        "    #model.add(LeakyReLU(alpha=0.2))\n",
        "\n",
        "    ## upsampling 2 times for 1D input \n",
        "    model.add(UpSampling1D(size=2))\n",
        "  \n",
        "    ## convolution layer 2\n",
        "    model.add(Conv1D(60,3,padding='same'))\n",
        "    model.add(LeakyReLU(alpha=0.2))\n",
        "    model.add(Dropout(0.20))\n",
        "    model.add(Reshape((10,-1)))\n",
        "    # convolution layer 3: output layer\n",
        "\n",
        "    model.add(Conv1D(1, 3, activation='tanh', padding='same'))\n",
        "\n",
        "    opt = Adam(lr=0.0001, beta_1=0.7, beta_2=0.999)\n",
        "    model.compile(loss='binary_crossentropy', optimizer=opt)\n",
        "\n",
        "    return model"
      ],
      "execution_count": 0,
      "outputs": []
    },
    {
      "cell_type": "code",
      "metadata": {
        "id": "r2cH7Tz_lK24",
        "colab_type": "code",
        "colab": {}
      },
      "source": [
        "## define a GAN according to two 1D-CNNs\n",
        "## add g_model and d_model then do optimization using ADAM\n",
        "\n",
        "def define_gan(g_model, d_model):\n",
        "    \n",
        "    d_model.trainable = False\n",
        "    model = Sequential()\n",
        "\n",
        "    model.add(g_model)\n",
        "    model.add(d_model)\n",
        "  # make a standard ADAM learning\n",
        "    opt = Adam(lr=0.0001, beta_1=0.5)\n",
        "    model.compile(loss='binary_crossentropy', optimizer=opt)\n",
        "    return model"
      ],
      "execution_count": 0,
      "outputs": []
    },
    {
      "cell_type": "code",
      "metadata": {
        "id": "C_fshCQ8mA5v",
        "colab_type": "code",
        "colab": {}
      },
      "source": [
        "\n",
        "## generate 'real' samples ('Deliquency') with class label\n",
        "## here we use real_--> the ndrray of the original DataFrame real\n",
        "from numpy.random import randn, randint\n",
        "\n",
        "## randomly select 'real' samples: \n",
        "## aka minority type samples\n",
        "\n",
        "def generate_real_samples( n_samples):\n",
        "    global real_\n",
        "    ix = randint(0, len(real_), n_samples)\n",
        "    y = ones((n_samples, 1))   \n",
        "\n",
        "    X = []  \n",
        "    for f in range (len(ix)):\n",
        "        X.append(real_[ix[f]])\n",
        "\n",
        "    return np.array(X), np.array(y)"
      ],
      "execution_count": 0,
      "outputs": []
    },
    {
      "cell_type": "code",
      "metadata": {
        "id": "Uj6Qyv3huvD2",
        "colab_type": "code",
        "colab": {}
      },
      "source": [
        "\n",
        "## generate latent points: majority type samples\n",
        "## randomly selected majority samples\n",
        "## the samples have no label\n",
        "\n",
        "def generate_latent_points( n_samples):\n",
        "    global fake_  # majority samples \n",
        "\n",
        "    ix = randint(0, len(fake_), n_samples)\n",
        "\n",
        "    X=[]\n",
        "    for f in range (len(ix)):\n",
        "        X.append(fake_[ix[f]]+ randn())\n",
        "    \n",
        "    X=np.array(X).reshape(n_samples,10)\n",
        "    return X"
      ],
      "execution_count": 0,
      "outputs": []
    },
    {
      "cell_type": "code",
      "metadata": {
        "id": "qJQYNDxKwlsx",
        "colab_type": "code",
        "colab": {}
      },
      "source": [
        "## generate fake samples: then learn this one\n",
        "## aka: majority samples \n",
        "\n",
        "def generate_fake_samples(g_model, n_samples):\n",
        "    x_input = generate_latent_points(n_samples)  # randomly select maajority samples\n",
        "  \n",
        "  # generator preicts a bunch of outputs for x_input\n",
        "    #print(\"this is x_input\\n\")\n",
        "    #print(x_input)\n",
        "    X = g_model.predict(x_input) ## generator learning\n",
        "    #print(\" this is predicted X based on X-input\\n\")\n",
        "    \n",
        "    y = zeros((n_samples, 1))  ## majority type label\n",
        "    #print([X,y])\n",
        "    return X, y"
      ],
      "execution_count": 0,
      "outputs": []
    },
    {
      "cell_type": "code",
      "metadata": {
        "id": "gvbms1T6MCA0",
        "colab_type": "code",
        "colab": {}
      },
      "source": [
        "# checking generate fake samples\n",
        "#X1, Y1=generate_fake_samples(g_model, 2)"
      ],
      "execution_count": 0,
      "outputs": []
    },
    {
      "cell_type": "code",
      "metadata": {
        "id": "gWK3yrt1yk4P",
        "colab_type": "code",
        "colab": {}
      },
      "source": [
        "def summarize_performance(epoch, g_model, d_model, n_samples=100):\n",
        "    print(\"################# Summarize ###################\")\n",
        "    ## detect real (minority samples)\n",
        "    X_real, y_real = generate_real_samples( n_samples)\n",
        "    _, acc_real = d_model.evaluate(X_real, y_real, verbose=0)\n",
        "  \n",
        "  ## detect fake (majority) samples\n",
        "    x_fake, y_fake = generate_fake_samples(g_model,  n_samples)\n",
        "    _, acc_fake = d_model.evaluate(x_fake, y_fake, verbose=0)\n",
        "\n",
        "    print('>Accuracy: minority (real) class: %6.2f%%, majority (fake) class: %6.2f%%'\n",
        "     % (acc_real*100, acc_fake*100))\n"
      ],
      "execution_count": 0,
      "outputs": []
    },
    {
      "cell_type": "code",
      "metadata": {
        "id": "TgRwc5oy_k_E",
        "colab_type": "code",
        "colab": {}
      },
      "source": [
        "def summarize_performance_2(epoch, g_model, d_model, n_samples=1000):\n",
        "    print(\"################# Summarize ###################\")\n",
        "    ## detect real (minority samples)\n",
        "    X_real, y_real = generate_real_samples(n_samples)\n",
        "    _, acc_real = d_model.evaluate(X_real, y_real, verbose=0)\n",
        "  \n",
        "  ## detect fake (majority) samples\n",
        "    x_fake, y_fake = generate_fake_samples(g_model,  n_samples)\n",
        "    _, acc_fake = d_model.evaluate(x_fake, y_fake, verbose=0)\n",
        "\n",
        "    print('>Accuracy: minority (real) class: %6.2f%%, majority (fake) class: %6.2f%%'\n",
        "     % (acc_real*100, acc_fake*100))\n",
        "    return acc_real, acc_fake"
      ],
      "execution_count": 0,
      "outputs": []
    },
    {
      "cell_type": "code",
      "metadata": {
        "id": "kWJFH02z3OkB",
        "colab_type": "code",
        "colab": {}
      },
      "source": [
        "#############################################################################\n",
        "#train GAN\n",
        "\n",
        "#Possible case is g_loss increases along with d_loss_1 and d_loss_2 decrease\n",
        "#The generator finds it almost impossible to fool the discriminator\n",
        "#Henece the generator increases its loss--> starts to diverge?\n",
        "\n",
        "# It means it can only produce valueless noise \n",
        "## It is possible D encouters overfitting\n",
        "\n",
        "#############################################################################\n",
        "\n",
        "\n",
        "from keras.layers import Input\n",
        "from keras.layers.core import Lambda,Activation\n",
        "\n",
        "## TRAIN discriminator and generator under minibatch\n",
        "import time\n",
        "def train_2(g_model, d_model, gan_model,  latent_dim, n_epochs=50, n_batch=3000):\n",
        "    global real_\n",
        "    \n",
        "    bat_per_epo = int(len(real_) / n_batch)\n",
        "    print('Batchs per epoch: {:d}'.format(bat_per_epo))\n",
        "\n",
        "    half_batch = int(n_batch / 2)\n",
        "\n",
        "##  checking loss for discriminator aand generator\n",
        "    d_loss_1_=[]\n",
        "    d_loss_2_=[]\n",
        "    g_loss_  =[]\n",
        "    real_accuracy=[]\n",
        "    fake_accuracy=[]\n",
        "    for i in range(n_epochs):\n",
        "        \n",
        "        for j in range(bat_per_epo):\n",
        "          \n",
        "            # generate  randomly selected 'minority class samples\n",
        "            X_real, y_real = generate_real_samples(half_batch)     \n",
        "            ## let discrimnator assess     \n",
        "            ## d_loss1: discrimator's loss for assessing minority data\n",
        "            d_loss1, _ = d_model.train_on_batch(X_real, y_real)\n",
        "\n",
        "            # generate majority class samples \n",
        "            X_fake, y_fake = generate_fake_samples(g_model,  half_batch)\n",
        "\n",
        "            ## let discriminator assess\n",
        "            # d_loss2: discrominator's losss for assessing majority data\n",
        "            d_loss2, _ = d_model.train_on_batch(X_fake, y_fake)\n",
        "            \n",
        "            # generate latent points (majority class) with label\n",
        "            X_gan = generate_latent_points( n_batch)\n",
        "            y_gan = ones((n_batch, 1))\n",
        "            \n",
        "            ## train GAN\n",
        "            g_loss = gan_model.train_on_batch(X_gan, y_gan)\n",
        "            ## minitor progress\n",
        "            #if i%5==0:\n",
        "            #  print('>%d, %d/%d, d1=%.3f, d2=%.3f g=%.3f' %\n",
        "            #   (i+1, j+1, bat_per_epo, d_loss1, d_loss2, g_loss))\n",
        "           \n",
        "            d_loss_1_.append(d_loss1)\n",
        "            d_loss_2_.append(d_loss2)\n",
        "            g_loss_.append(g_loss)\n",
        "\n",
        "    ## summarize performane\n",
        "        if (i+1) % 2 == 0:\n",
        "          t1, t2=summarize_performance_2(i, g_model, d_model)\n",
        "          real_accuracy.append(t1)\n",
        "          fake_accuracy.append(t2)\n",
        "    \n",
        "\n",
        "\n",
        "    return d_model, g_model, d_loss_1_, d_loss_2_, g_loss_, real_accuracy, fake_accuracy\n",
        "\n",
        "\n"
      ],
      "execution_count": 0,
      "outputs": []
    },
    {
      "cell_type": "markdown",
      "metadata": {
        "id": "7uL4qpHlHpJl",
        "colab_type": "text"
      },
      "source": [
        ""
      ]
    },
    {
      "cell_type": "code",
      "metadata": {
        "id": "4N_DJ5edNMcC",
        "colab_type": "code",
        "outputId": "40512a13-ab49-4092-9cfd-513f71ed67d4",
        "colab": {
          "base_uri": "https://localhost:8080/",
          "height": 923
        }
      },
      "source": [
        "###############################################\n",
        "## train GAN\n",
        "###############################################\n",
        "# size of the latent space\n",
        "latent_dim = 10\n",
        "\n",
        "# create the discriminator\n",
        "d_model = define_discriminator()\n",
        "# create the generator\n",
        "g_model = define_generator(latent_dim)\n",
        "# create the gan\n",
        "gan_model = define_gan(g_model, d_model)\n",
        "# training GAN\n",
        "## call GPU support\n",
        "with tf.device('/device:GPU:0'):\n",
        "  d_model, g_model, d_loss_1_, d_loss_2_, g_loss_, real_accuracy, fake_accuracy=train_2(g_model, d_model, gan_model,  latent_dim)\n"
      ],
      "execution_count": 0,
      "outputs": [
        {
          "output_type": "stream",
          "text": [
            "Batchs per epoch: 2\n",
            "################# Summarize ###################\n",
            ">Accuracy: minority (real) class:  99.90%, majority (fake) class:   0.00%\n",
            "################# Summarize ###################\n",
            ">Accuracy: minority (real) class:  99.90%, majority (fake) class:   0.00%\n",
            "################# Summarize ###################\n",
            ">Accuracy: minority (real) class:  99.80%, majority (fake) class:   0.00%\n",
            "################# Summarize ###################\n",
            ">Accuracy: minority (real) class:  99.80%, majority (fake) class:   0.00%\n",
            "################# Summarize ###################\n",
            ">Accuracy: minority (real) class:  99.90%, majority (fake) class:   0.00%\n",
            "################# Summarize ###################\n",
            ">Accuracy: minority (real) class: 100.00%, majority (fake) class:   0.00%\n",
            "################# Summarize ###################\n",
            ">Accuracy: minority (real) class: 100.00%, majority (fake) class:   0.00%\n",
            "################# Summarize ###################\n",
            ">Accuracy: minority (real) class: 100.00%, majority (fake) class:   0.00%\n",
            "################# Summarize ###################\n",
            ">Accuracy: minority (real) class: 100.00%, majority (fake) class:   0.00%\n",
            "################# Summarize ###################\n",
            ">Accuracy: minority (real) class:  99.90%, majority (fake) class:  16.00%\n",
            "################# Summarize ###################\n",
            ">Accuracy: minority (real) class:  99.70%, majority (fake) class:  37.20%\n",
            "################# Summarize ###################\n",
            ">Accuracy: minority (real) class: 100.00%, majority (fake) class:  36.30%\n",
            "################# Summarize ###################\n",
            ">Accuracy: minority (real) class: 100.00%, majority (fake) class:  26.60%\n",
            "################# Summarize ###################\n",
            ">Accuracy: minority (real) class: 100.00%, majority (fake) class:  29.50%\n",
            "################# Summarize ###################\n",
            ">Accuracy: minority (real) class: 100.00%, majority (fake) class:  33.90%\n",
            "################# Summarize ###################\n",
            ">Accuracy: minority (real) class: 100.00%, majority (fake) class:  50.50%\n",
            "################# Summarize ###################\n",
            ">Accuracy: minority (real) class: 100.00%, majority (fake) class:  67.00%\n",
            "################# Summarize ###################\n",
            ">Accuracy: minority (real) class: 100.00%, majority (fake) class:  79.60%\n",
            "################# Summarize ###################\n",
            ">Accuracy: minority (real) class: 100.00%, majority (fake) class:  61.50%\n",
            "################# Summarize ###################\n",
            ">Accuracy: minority (real) class: 100.00%, majority (fake) class:  63.00%\n",
            "################# Summarize ###################\n",
            ">Accuracy: minority (real) class: 100.00%, majority (fake) class:  67.00%\n",
            "################# Summarize ###################\n",
            ">Accuracy: minority (real) class: 100.00%, majority (fake) class:  79.90%\n",
            "################# Summarize ###################\n",
            ">Accuracy: minority (real) class:  99.90%, majority (fake) class:  98.90%\n",
            "################# Summarize ###################\n",
            ">Accuracy: minority (real) class:  99.60%, majority (fake) class:  99.50%\n",
            "################# Summarize ###################\n",
            ">Accuracy: minority (real) class:  99.90%, majority (fake) class: 100.00%\n"
          ],
          "name": "stdout"
        }
      ]
    },
    {
      "cell_type": "code",
      "metadata": {
        "id": "-kDrlXMG8n4z",
        "colab_type": "code",
        "outputId": "2d470357-d184-492f-ad1b-59de7c30175c",
        "colab": {
          "base_uri": "https://localhost:8080/",
          "height": 52
        }
      },
      "source": [
        "# save the existing results to a pickle file\n",
        "\n",
        "import pickle\n",
        "filename='GAN_dataNEW.pickle'\n",
        "fp=open(filename, 'wb')\n",
        "gan_data=[d_loss_1_, d_loss_2_, g_loss_]\n",
        "pickle.dump(gan_data, fp)\n",
        "print(\" \" + filename + \"is saved!\\n\")"
      ],
      "execution_count": 0,
      "outputs": [
        {
          "output_type": "stream",
          "text": [
            " GAN_dataNEW.pickleis saved!\n",
            "\n"
          ],
          "name": "stdout"
        }
      ]
    },
    {
      "cell_type": "code",
      "metadata": {
        "id": "WkKGRCwM0Qty",
        "colab_type": "code",
        "outputId": "affd943e-d8be-43d5-c730-e299285c1876",
        "colab": {
          "base_uri": "https://localhost:8080/",
          "height": 314
        }
      },
      "source": [
        "import matplotlib.pyplot as plt\n",
        "\n",
        "with tf.device('/device:GPU:0'):\n",
        "  fig=plt.figure(figsize=(18,4))\n",
        "\n",
        "  plt.subplot(1,3,1)\n",
        "  plt.plot(g_loss_, 'r-.')\n",
        "  plt.ylabel('G-loss')\n",
        "  plt.xlabel('Epoch') \n",
        "  plt.yscale('log')\n",
        "  plt.grid('True', lw=0.3, color='r',linestyle=':', alpha=0.6)\n",
        "\n",
        "  plt.subplot(1,3,2)\n",
        "  plt.plot(d_loss_1_, 'b-.', lw=0.9)\n",
        "  plt.ylabel('D-loss')\n",
        "  plt.plot(d_loss_2_, 'k', lw=0.9)\n",
        "  plt.legend(['D-loss (minority)','D-loss (majority)'], loc='left')\n",
        "  plt.xlabel('Epoch') \n",
        "  plt.yscale('log')\n",
        "  plt.grid('True', lw=0.3, color='r', linestyle=':', alpha=0.6)\n",
        "\n",
        "  plt.subplot(1,3,3)\n",
        "  plt.plot(real_accuracy, 'b-.', lw=0.9)\n",
        "  plt.plot(fake_accuracy, 'k-', lw=0.9)\n",
        "  plt.legend(['Accuracy (minority)','Accuracy (majority)'])\n",
        "  plt.xlabel('Epoch') \n",
        "  plt.ylabel('Accuracy')\n",
        " \n",
        "  plt.grid('True', lw=0.3, color='r', linestyle=':', alpha=0.6)\n",
        "  filename='GAN_loss2.png'\n",
        "  fig.savefig(filename, dpi=601)\n",
        "  print(filename + \" is saved\\n\")\n",
        "## The D has a al,ost z loss but G's loss increases"
      ],
      "execution_count": 0,
      "outputs": [
        {
          "output_type": "stream",
          "text": [
            "GAN_loss2.png is saved\n",
            "\n"
          ],
          "name": "stdout"
        },
        {
          "output_type": "display_data",
          "data": {
            "image/png": "[encoded data removed]",
            "text/plain": [
              "<Figure size 1296x288 with 3 Axes>"
            ]
          },
          "metadata": {
            "tags": []
          }
        }
      ]
    },
    {
      "cell_type": "code",
      "metadata": {
        "id": "sFHPMuHWNoD6",
        "colab_type": "code",
        "outputId": "17c90111-ab17-4857-fe04-21eb616be66a",
        "colab": {
          "base_uri": "https://localhost:8080/",
          "height": 373
        }
      },
      "source": [
        "from keras.layers import Input\n",
        "from keras.layers.core import Lambda,Activation\n",
        "test=df.drop('Delinquency',axis=1)\n",
        "test=test.reset_index()\n",
        "test=test.values.reshape((test.shape[0],  test.shape[1],1))\n",
        "re_test=d_model.predict(test)"
      ],
      "execution_count": 0,
      "outputs": [
        {
          "output_type": "error",
          "ename": "ValueError",
          "evalue": "ignored",
          "traceback": [
            "\u001b[0;31m---------------------------------------------------------------------------\u001b[0m",
            "\u001b[0;31mValueError\u001b[0m                                Traceback (most recent call last)",
            "\u001b[0;32m<ipython-input-277-7b82a6ac067e>\u001b[0m in \u001b[0;36m<module>\u001b[0;34m()\u001b[0m\n\u001b[1;32m      4\u001b[0m \u001b[0mtest\u001b[0m\u001b[0;34m=\u001b[0m\u001b[0mtest\u001b[0m\u001b[0;34m.\u001b[0m\u001b[0mreset_index\u001b[0m\u001b[0;34m(\u001b[0m\u001b[0;34m)\u001b[0m\u001b[0;34m\u001b[0m\u001b[0;34m\u001b[0m\u001b[0m\n\u001b[1;32m      5\u001b[0m \u001b[0mtest\u001b[0m\u001b[0;34m=\u001b[0m\u001b[0mtest\u001b[0m\u001b[0;34m.\u001b[0m\u001b[0mvalues\u001b[0m\u001b[0;34m.\u001b[0m\u001b[0mreshape\u001b[0m\u001b[0;34m(\u001b[0m\u001b[0;34m(\u001b[0m\u001b[0mtest\u001b[0m\u001b[0;34m.\u001b[0m\u001b[0mshape\u001b[0m\u001b[0;34m[\u001b[0m\u001b[0;36m0\u001b[0m\u001b[0;34m]\u001b[0m\u001b[0;34m,\u001b[0m  \u001b[0mtest\u001b[0m\u001b[0;34m.\u001b[0m\u001b[0mshape\u001b[0m\u001b[0;34m[\u001b[0m\u001b[0;36m1\u001b[0m\u001b[0;34m]\u001b[0m\u001b[0;34m,\u001b[0m\u001b[0;36m1\u001b[0m\u001b[0;34m)\u001b[0m\u001b[0;34m)\u001b[0m\u001b[0;34m\u001b[0m\u001b[0;34m\u001b[0m\u001b[0m\n\u001b[0;32m----> 6\u001b[0;31m \u001b[0mre_test\u001b[0m\u001b[0;34m=\u001b[0m\u001b[0md_model\u001b[0m\u001b[0;34m.\u001b[0m\u001b[0mpredict\u001b[0m\u001b[0;34m(\u001b[0m\u001b[0mtest\u001b[0m\u001b[0;34m)\u001b[0m\u001b[0;34m\u001b[0m\u001b[0;34m\u001b[0m\u001b[0m\n\u001b[0m",
            "\u001b[0;32m/usr/local/lib/python3.6/dist-packages/keras/engine/training.py\u001b[0m in \u001b[0;36mpredict\u001b[0;34m(self, x, batch_size, verbose, steps, callbacks, max_queue_size, workers, use_multiprocessing)\u001b[0m\n\u001b[1;32m   1378\u001b[0m \u001b[0;34m\u001b[0m\u001b[0m\n\u001b[1;32m   1379\u001b[0m         \u001b[0;31m# Case 2: Symbolic tensors or Numpy array-like.\u001b[0m\u001b[0;34m\u001b[0m\u001b[0;34m\u001b[0m\u001b[0;34m\u001b[0m\u001b[0m\n\u001b[0;32m-> 1380\u001b[0;31m         \u001b[0mx\u001b[0m\u001b[0;34m,\u001b[0m \u001b[0m_\u001b[0m\u001b[0;34m,\u001b[0m \u001b[0m_\u001b[0m \u001b[0;34m=\u001b[0m \u001b[0mself\u001b[0m\u001b[0;34m.\u001b[0m\u001b[0m_standardize_user_data\u001b[0m\u001b[0;34m(\u001b[0m\u001b[0mx\u001b[0m\u001b[0;34m)\u001b[0m\u001b[0;34m\u001b[0m\u001b[0;34m\u001b[0m\u001b[0m\n\u001b[0m\u001b[1;32m   1381\u001b[0m         \u001b[0;32mif\u001b[0m \u001b[0mself\u001b[0m\u001b[0;34m.\u001b[0m\u001b[0mstateful\u001b[0m\u001b[0;34m:\u001b[0m\u001b[0;34m\u001b[0m\u001b[0;34m\u001b[0m\u001b[0m\n\u001b[1;32m   1382\u001b[0m             \u001b[0;32mif\u001b[0m \u001b[0mx\u001b[0m\u001b[0;34m[\u001b[0m\u001b[0;36m0\u001b[0m\u001b[0;34m]\u001b[0m\u001b[0;34m.\u001b[0m\u001b[0mshape\u001b[0m\u001b[0;34m[\u001b[0m\u001b[0;36m0\u001b[0m\u001b[0;34m]\u001b[0m \u001b[0;34m>\u001b[0m \u001b[0mbatch_size\u001b[0m \u001b[0;32mand\u001b[0m \u001b[0mx\u001b[0m\u001b[0;34m[\u001b[0m\u001b[0;36m0\u001b[0m\u001b[0;34m]\u001b[0m\u001b[0;34m.\u001b[0m\u001b[0mshape\u001b[0m\u001b[0;34m[\u001b[0m\u001b[0;36m0\u001b[0m\u001b[0;34m]\u001b[0m \u001b[0;34m%\u001b[0m \u001b[0mbatch_size\u001b[0m \u001b[0;34m!=\u001b[0m \u001b[0;36m0\u001b[0m\u001b[0;34m:\u001b[0m\u001b[0;34m\u001b[0m\u001b[0;34m\u001b[0m\u001b[0m\n",
            "\u001b[0;32m/usr/local/lib/python3.6/dist-packages/keras/engine/training.py\u001b[0m in \u001b[0;36m_standardize_user_data\u001b[0;34m(self, x, y, sample_weight, class_weight, check_array_lengths, batch_size)\u001b[0m\n\u001b[1;32m    755\u001b[0m             \u001b[0mfeed_input_shapes\u001b[0m\u001b[0;34m,\u001b[0m\u001b[0;34m\u001b[0m\u001b[0;34m\u001b[0m\u001b[0m\n\u001b[1;32m    756\u001b[0m             \u001b[0mcheck_batch_axis\u001b[0m\u001b[0;34m=\u001b[0m\u001b[0;32mFalse\u001b[0m\u001b[0;34m,\u001b[0m  \u001b[0;31m# Don't enforce the batch size.\u001b[0m\u001b[0;34m\u001b[0m\u001b[0;34m\u001b[0m\u001b[0m\n\u001b[0;32m--> 757\u001b[0;31m             exception_prefix='input')\n\u001b[0m\u001b[1;32m    758\u001b[0m \u001b[0;34m\u001b[0m\u001b[0m\n\u001b[1;32m    759\u001b[0m         \u001b[0;32mif\u001b[0m \u001b[0my\u001b[0m \u001b[0;32mis\u001b[0m \u001b[0;32mnot\u001b[0m \u001b[0;32mNone\u001b[0m\u001b[0;34m:\u001b[0m\u001b[0;34m\u001b[0m\u001b[0;34m\u001b[0m\u001b[0m\n",
            "\u001b[0;32m/usr/local/lib/python3.6/dist-packages/keras/engine/training_utils.py\u001b[0m in \u001b[0;36mstandardize_input_data\u001b[0;34m(data, names, shapes, check_batch_axis, exception_prefix)\u001b[0m\n\u001b[1;32m    139\u001b[0m                             \u001b[0;34m': expected '\u001b[0m \u001b[0;34m+\u001b[0m \u001b[0mnames\u001b[0m\u001b[0;34m[\u001b[0m\u001b[0mi\u001b[0m\u001b[0;34m]\u001b[0m \u001b[0;34m+\u001b[0m \u001b[0;34m' to have shape '\u001b[0m \u001b[0;34m+\u001b[0m\u001b[0;34m\u001b[0m\u001b[0;34m\u001b[0m\u001b[0m\n\u001b[1;32m    140\u001b[0m                             \u001b[0mstr\u001b[0m\u001b[0;34m(\u001b[0m\u001b[0mshape\u001b[0m\u001b[0;34m)\u001b[0m \u001b[0;34m+\u001b[0m \u001b[0;34m' but got array with shape '\u001b[0m \u001b[0;34m+\u001b[0m\u001b[0;34m\u001b[0m\u001b[0;34m\u001b[0m\u001b[0m\n\u001b[0;32m--> 141\u001b[0;31m                             str(data_shape))\n\u001b[0m\u001b[1;32m    142\u001b[0m     \u001b[0;32mreturn\u001b[0m \u001b[0mdata\u001b[0m\u001b[0;34m\u001b[0m\u001b[0;34m\u001b[0m\u001b[0m\n\u001b[1;32m    143\u001b[0m \u001b[0;34m\u001b[0m\u001b[0m\n",
            "\u001b[0;31mValueError\u001b[0m: Error when checking input: expected conv1d_169_input to have shape (10, 1) but got array with shape (11, 1)"
          ]
        }
      ]
    },
    {
      "cell_type": "code",
      "metadata": {
        "id": "lAge2wkwthrP",
        "colab_type": "code",
        "colab": {}
      },
      "source": [
        "d_model.evaluate(test, df['Delinquency'])\n",
        "re_test=d_model.predict(test)\n",
        "pd.Series(re_test.flatten()).value_counts()"
      ],
      "execution_count": 0,
      "outputs": []
    }
  ]
}