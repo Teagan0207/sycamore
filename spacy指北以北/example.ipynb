{
 "cells": [
  {
   "cell_type": "code",
   "execution_count": null,
   "metadata": {},
   "outputs": [],
   "source": [
    "import import_ipynb\n",
    "import basic as b"
   ]
  },
  {
   "cell_type": "markdown",
   "metadata": {},
   "source": [
    "<font face=\"微软雅黑\" size=3 color=#A52A2A >\n",
    "    读文件，同时生成.docx 和.txt <br/>\n",
    "    转换成spacy默认处理模式nlp(str) "
   ]
  },
  {
   "cell_type": "code",
   "execution_count": null,
   "metadata": {},
   "outputs": [],
   "source": [
    "file=b.read(r'D:\\UN\\N0550398.DOC')#str\n",
    "doc=b.nlp(file) #spacy span\n",
    "%store file\n",
    "%store doc"
   ]
  },
  {
   "cell_type": "code",
   "execution_count": null,
   "metadata": {},
   "outputs": [],
   "source": [
    "def meta(file=file):\n",
    "    print('Identification number:',b.id_num(file))\n",
    "    print('Agenda items:',b.agenda_item(file))\n",
    "    print('Title:',b.title(file))\n",
    "    print('Approval date:',b.approval_date(file))\n",
    "    print('Session:',b.session(file))\n",
    "    print('Proponent authority:',b.proponent_authority(file))\n",
    "    print('Closing formula:',b.closing_formula(file))  ##not sure"
   ]
  },
  {
   "cell_type": "markdown",
   "metadata": {},
   "source": [
    "<font face=\"微软雅黑\" size=3 color=#A52A2A >\n",
    "    分段分成 <br/>\n",
    "    1.序 considering xxx, recalling yyy, imagining zzz<br/>\n",
    "    2.要求 requests 123，decides 456，examines 789<br/>\n",
    "    3.附注 <br/>\n",
    "    4.脚注<br/>"
   ]
  },
  {
   "cell_type": "code",
   "execution_count": null,
   "metadata": {},
   "outputs": [],
   "source": [
    "def seg(attr='pre',nlp=b.nlp,file=file):  #return spacy span\n",
    "    if attr=='pre':\n",
    "        return b.preamble(file,nlp)\n",
    "    if attr=='op':\n",
    "        return b.operative(file,nlp)\n",
    "    if attr=='ax':\n",
    "        return b.annex(file)\n",
    "    if attr=='fn':\n",
    "        return b.footnote(file)"
   ]
  },
  {
   "cell_type": "code",
   "execution_count": null,
   "metadata": {},
   "outputs": [],
   "source": [
    "meta()"
   ]
  },
  {
   "cell_type": "code",
   "execution_count": null,
   "metadata": {},
   "outputs": [],
   "source": [
    "op=seg('op')"
   ]
  },
  {
   "cell_type": "markdown",
   "metadata": {},
   "source": [
    "<font face=\"微软雅黑\" size=3 color=#A52A2A >\n",
    "    要求段中只保留主句<br/>\n",
    "    注意参数一定要是seg('op')的结果"
   ]
  },
  {
   "cell_type": "code",
   "execution_count": null,
   "metadata": {},
   "outputs": [],
   "source": [
    "sents=b.op_to_sentence(op)  ## only deal with operative paragraphs \n",
    "sents"
   ]
  },
  {
   "cell_type": "markdown",
   "metadata": {},
   "source": [
    "<font face=\"微软雅黑\" size=5 color=000000 >\n",
    "    缩句保留成分<br/>\n",
    "<font face=\"微软雅黑\" size=3 color=#A52A2A >\n",
    "    参数一定要先经过仅保留主句的步骤\n",
    "    <br/>\n",
    "    <br/>\n",
    "    目前的结果，红色圈出来的是有问题的或者表意不清"
   ]
  },
  {
   "cell_type": "markdown",
   "metadata": {},
   "source": [
    "![](https://raw.githubusercontent.com/Teagan0207/sycamore/master/spacy%E6%8C%87%E5%8C%97%E4%BB%A5%E5%8C%97/WeChat%20Image_20190401230504.png)"
   ]
  },
  {
   "cell_type": "code",
   "execution_count": null,
   "metadata": {},
   "outputs": [],
   "source": [
    "b.extract_test(sents)"
   ]
  },
  {
   "cell_type": "markdown",
   "metadata": {},
   "source": [
    "<font face=\"微软雅黑\" size=3 color=#A52A2A >\n",
    "    序言中的reference<br/>"
   ]
  },
  {
   "cell_type": "code",
   "execution_count": null,
   "metadata": {},
   "outputs": [],
   "source": [
    "b.reference(file)       #reference in preamble"
   ]
  },
  {
   "cell_type": "markdown",
   "metadata": {},
   "source": [
    "<font face=\"微软雅黑\" size=3 color=#A52A2A >\n",
    "    要求中的ddl<br/>"
   ]
  },
  {
   "cell_type": "code",
   "execution_count": null,
   "metadata": {},
   "outputs": [],
   "source": [
    "b.future_date(file)      #future dates in operative paragraphs, contains duplicates for future to locate\n",
    "                         # return both day-month-year and only year "
   ]
  },
  {
   "cell_type": "code",
   "execution_count": null,
   "metadata": {},
   "outputs": [],
   "source": [
    "### NER need training,train_data manually marked\n",
    "b.TRAIN_DATA "
   ]
  },
  {
   "cell_type": "code",
   "execution_count": null,
   "metadata": {},
   "outputs": [],
   "source": [
    "nlp_new=b.main(\"en_core_web_sm\",r'D:\\UN') #training nlp2 model/location to save model\n",
    "%store nlp_new"
   ]
  },
  {
   "cell_type": "markdown",
   "metadata": {},
   "source": [
    "<font face=\"微软雅黑\" size=3 color=#A52A2A >\n",
    "    训练模型<br/>"
   ]
  },
  {
   "cell_type": "code",
   "execution_count": null,
   "metadata": {},
   "outputs": [],
   "source": [
    "doc_new=nlp_new(file)\n",
    "b.displacy.render(doc_new, style='ent', jupyter=True)   "
   ]
  },
  {
   "cell_type": "markdown",
   "metadata": {},
   "source": [
    "<font face=\"微软雅黑\" size=3 color=#A52A2A >\n",
    "    新模型的结果<br/>"
   ]
  },
  {
   "cell_type": "code",
   "execution_count": null,
   "metadata": {},
   "outputs": [],
   "source": [
    "doc_new=nlp_new(file)\n",
    "b.displacy.render(doc_new, style='ent', jupyter=True)   "
   ]
  },
  {
   "cell_type": "code",
   "execution_count": null,
   "metadata": {},
   "outputs": [],
   "source": []
  },
  {
   "cell_type": "code",
   "execution_count": null,
   "metadata": {},
   "outputs": [],
   "source": []
  },
  {
   "cell_type": "markdown",
   "metadata": {},
   "source": []
  },
  {
   "cell_type": "code",
   "execution_count": null,
   "metadata": {},
   "outputs": [],
   "source": []
  }
 ],
 "metadata": {
  "kernelspec": {
   "display_name": "Python [default]",
   "language": "python",
   "name": "python3"
  },
  "language_info": {
   "codemirror_mode": {
    "name": "ipython",
    "version": 3
   },
   "file_extension": ".py",
   "mimetype": "text/x-python",
   "name": "python",
   "nbconvert_exporter": "python",
   "pygments_lexer": "ipython3",
   "version": "3.5.6"
  }
 },
 "nbformat": 4,
 "nbformat_minor": 2
}
