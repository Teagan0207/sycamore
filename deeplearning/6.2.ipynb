{
 "cells": [
  {
   "cell_type": "code",
   "execution_count": 2,
   "metadata": {},
   "outputs": [],
   "source": [
    "import numpy as np"
   ]
  },
  {
   "cell_type": "code",
   "execution_count": 14,
   "metadata": {},
   "outputs": [],
   "source": [
    "timesteps=100\n",
    "input_features=32\n",
    "output_features=64\n",
    "\n",
    "inputs=np.random.random((timesteps,input_features))\n",
    "state_t=np.zeros((output_features,))\n",
    "W=np.random.random((output_features,input_features))\n",
    "U=np.random.random((output_features,output_features))\n",
    "b=np.random.random((output_features,))\n",
    "\n",
    "successive_outputs=[]\n",
    "for input_t in inputs:#input_t (32,)\n",
    "    output_t=np.tanh(np.dot(W,input_t)+np.dot(U,state_t)+b) #(64,)\n",
    "    successive_outputs.append(output_t)\n",
    "    state_t=output_t\n",
    "\n",
    "final_output_sequences=np.concatenate(successive_outputs,axis=0)\n",
    "#(timesteps,output_features) "
   ]
  },
  {
   "cell_type": "code",
   "execution_count": 12,
   "metadata": {},
   "outputs": [
    {
     "data": {
      "text/plain": [
       "(64,)"
      ]
     },
     "execution_count": 12,
     "metadata": {},
     "output_type": "execute_result"
    }
   ],
   "source": [
    "from keras.layers import SimpleRNN\n",
    "#simplernn input(batch_size,timesteps,input_features)"
   ]
  },
  {
   "cell_type": "code",
   "execution_count": 1,
   "metadata": {},
   "outputs": [
    {
     "name": "stderr",
     "output_type": "stream",
     "text": [
      "Using TensorFlow backend.\n"
     ]
    },
    {
     "name": "stdout",
     "output_type": "stream",
     "text": [
      "_________________________________________________________________\n",
      "Layer (type)                 Output Shape              Param #   \n",
      "=================================================================\n",
      "embedding_1 (Embedding)      (None, None, 32)          320000    \n",
      "_________________________________________________________________\n",
      "simple_rnn_1 (SimpleRNN)     (None, 32)                2080      \n",
      "=================================================================\n",
      "Total params: 322,080\n",
      "Trainable params: 322,080\n",
      "Non-trainable params: 0\n",
      "_________________________________________________________________\n"
     ]
    }
   ],
   "source": [
    "from keras.models import Sequential\n",
    "from keras.layers import Embedding, SimpleRNN\n",
    "model=Sequential()\n",
    "model.add(Embedding(10000,32))\n",
    "model.add(SimpleRNN(32))\n",
    "model.summary()\n",
    "#return only last ouput"
   ]
  },
  {
   "cell_type": "code",
   "execution_count": 2,
   "metadata": {},
   "outputs": [
    {
     "name": "stdout",
     "output_type": "stream",
     "text": [
      "_________________________________________________________________\n",
      "Layer (type)                 Output Shape              Param #   \n",
      "=================================================================\n",
      "embedding_2 (Embedding)      (None, None, 32)          320000    \n",
      "_________________________________________________________________\n",
      "simple_rnn_2 (SimpleRNN)     (None, None, 32)          2080      \n",
      "=================================================================\n",
      "Total params: 322,080\n",
      "Trainable params: 322,080\n",
      "Non-trainable params: 0\n",
      "_________________________________________________________________\n"
     ]
    }
   ],
   "source": [
    "model=Sequential()\n",
    "model.add(Embedding(10000,32))\n",
    "model.add(SimpleRNN(32,return_sequences=True))\n",
    "model.summary()\n",
    "#return full state sequence"
   ]
  },
  {
   "cell_type": "code",
   "execution_count": 4,
   "metadata": {},
   "outputs": [
    {
     "name": "stdout",
     "output_type": "stream",
     "text": [
      "_________________________________________________________________\n",
      "Layer (type)                 Output Shape              Param #   \n",
      "=================================================================\n",
      "embedding_4 (Embedding)      (None, None, 32)          320000    \n",
      "_________________________________________________________________\n",
      "simple_rnn_4 (SimpleRNN)     (None, None, 32)          2080      \n",
      "_________________________________________________________________\n",
      "simple_rnn_5 (SimpleRNN)     (None, None, 32)          2080      \n",
      "_________________________________________________________________\n",
      "simple_rnn_6 (SimpleRNN)     (None, None, 32)          2080      \n",
      "_________________________________________________________________\n",
      "simple_rnn_7 (SimpleRNN)     (None, 32)                2080      \n",
      "=================================================================\n",
      "Total params: 328,320\n",
      "Trainable params: 328,320\n",
      "Non-trainable params: 0\n",
      "_________________________________________________________________\n"
     ]
    }
   ],
   "source": [
    "model=Sequential()\n",
    "model.add(Embedding(10000,32))\n",
    "model.add(SimpleRNN(32,return_sequences=True))\n",
    "model.add(SimpleRNN(32,return_sequences=True))\n",
    "model.add(SimpleRNN(32,return_sequences=True))\n",
    "model.add(SimpleRNN(32))\n",
    "model.summary() #stack to increase reoresentational power"
   ]
  },
  {
   "cell_type": "code",
   "execution_count": 6,
   "metadata": {},
   "outputs": [],
   "source": [
    "from keras.datasets import imdb\n",
    "from keras.preprocessing import sequence\n",
    "\n",
    "max_features=10000\n",
    "maxlen=500\n",
    "batch_size=32\n",
    "\n",
    "(input_train,y_train),(input_test,y_test)=imdb.load_data(num_words=max_features)\n",
    "input_train=sequence.pad_sequences(input_train,maxlen=maxlen)\n",
    "input_test=sequence.pad_sequences(input_test,maxlen=maxlen)"
   ]
  },
  {
   "cell_type": "code",
   "execution_count": 7,
   "metadata": {},
   "outputs": [
    {
     "name": "stdout",
     "output_type": "stream",
     "text": [
      "Train on 20000 samples, validate on 5000 samples\n",
      "Epoch 1/10\n",
      "20000/20000 [==============================] - 24s 1ms/step - loss: 0.6428 - acc: 0.6109 - val_loss: 0.4986 - val_acc: 0.7790\n",
      "Epoch 2/10\n",
      "20000/20000 [==============================] - 19s 936us/step - loss: 0.4150 - acc: 0.8226 - val_loss: 0.3501 - val_acc: 0.8550\n",
      "Epoch 3/10\n",
      "20000/20000 [==============================] - 19s 937us/step - loss: 0.3155 - acc: 0.8741 - val_loss: 0.3357 - val_acc: 0.8676\n",
      "Epoch 4/10\n",
      "20000/20000 [==============================] - 19s 942us/step - loss: 0.2471 - acc: 0.9034 - val_loss: 0.3350 - val_acc: 0.8640\n",
      "Epoch 5/10\n",
      "20000/20000 [==============================] - 19s 946us/step - loss: 0.2239 - acc: 0.9165 - val_loss: 0.3744 - val_acc: 0.8366\n",
      "Epoch 6/10\n",
      "20000/20000 [==============================] - 19s 941us/step - loss: 0.1920 - acc: 0.9307 - val_loss: 0.3554 - val_acc: 0.8766\n",
      "Epoch 7/10\n",
      "20000/20000 [==============================] - 19s 937us/step - loss: 0.1556 - acc: 0.9443 - val_loss: 0.3608 - val_acc: 0.8570\n",
      "Epoch 8/10\n",
      "20000/20000 [==============================] - 19s 945us/step - loss: 0.1081 - acc: 0.9630 - val_loss: 0.3894 - val_acc: 0.8566\n",
      "Epoch 9/10\n",
      "20000/20000 [==============================] - 19s 941us/step - loss: 0.0863 - acc: 0.9714 - val_loss: 0.4692 - val_acc: 0.8318\n",
      "Epoch 10/10\n",
      "20000/20000 [==============================] - 19s 956us/step - loss: 0.0656 - acc: 0.9790 - val_loss: 0.4633 - val_acc: 0.8388\n"
     ]
    }
   ],
   "source": [
    "from keras.layers import Dense\n",
    "model=Sequential()\n",
    "model.add(Embedding(max_features,32))\n",
    "model.add(SimpleRNN(32))\n",
    "model.add(Dense(1,activation='sigmoid'))\n",
    "\n",
    "model.compile(optimizer='rmsprop',loss='binary_crossentropy',metrics=['acc'])\n",
    "history=model.fit(input_train,y_train,epochs=10,batch_size=128,validation_split=0.2)"
   ]
  },
  {
   "cell_type": "code",
   "execution_count": 8,
   "metadata": {},
   "outputs": [
    {
     "data": {
      "image/png": "[encoded data removed]",
      "text/plain": [
       "<matplotlib.figure.Figure at 0x1489d95a208>"
      ]
     },
     "metadata": {},
     "output_type": "display_data"
    },
    {
     "data": {
      "image/png": "[encoded data removed]",
      "text/plain": [
       "<matplotlib.figure.Figure at 0x148aaab0780>"
      ]
     },
     "metadata": {},
     "output_type": "display_data"
    }
   ],
   "source": [
    "import matplotlib.pyplot as plt\n",
    "acc=history.history['acc']\n",
    "val_acc=history.history['val_acc']\n",
    "loss=history.history['loss']\n",
    "val_loss=history.history['val_loss']\n",
    "\n",
    "epochs=range(1,len(acc)+1)\n",
    "plt.plot(epochs,acc,'bo',label='Training acc')\n",
    "plt.plot(epochs,val_acc,'b',label='Validation acc')\n",
    "plt.title('Training and validation accuracy')\n",
    "plt.legend()\n",
    "\n",
    "plt.figure()\n",
    "plt.plot(epochs,loss,'bo',label='Training loss')\n",
    "plt.plot(epochs,val_loss,'b',label='Validation loss')\n",
    "plt.title('Training and validation loss')\n",
    "plt.legend()\n",
    "plt.show()"
   ]
  },
  {
   "cell_type": "code",
   "execution_count": 9,
   "metadata": {},
   "outputs": [
    {
     "name": "stdout",
     "output_type": "stream",
     "text": [
      "_________________________________________________________________\n",
      "Layer (type)                 Output Shape              Param #   \n",
      "=================================================================\n",
      "embedding_6 (Embedding)      (None, None, 32)          320000    \n",
      "_________________________________________________________________\n",
      "lstm_1 (LSTM)                (None, 32)                8320      \n",
      "_________________________________________________________________\n",
      "dense_2 (Dense)              (None, 1)                 33        \n",
      "=================================================================\n",
      "Total params: 328,353\n",
      "Trainable params: 328,353\n",
      "Non-trainable params: 0\n",
      "_________________________________________________________________\n"
     ]
    }
   ],
   "source": [
    "from keras.layers import LSTM\n",
    "model=Sequential()\n",
    "model.add(Embedding(max_features,32))\n",
    "model.add(LSTM(32))\n",
    "model.add(Dense(1, activation='sigmoid'))\n",
    "model.summary()"
   ]
  },
  {
   "cell_type": "code",
   "execution_count": 11,
   "metadata": {},
   "outputs": [
    {
     "name": "stdout",
     "output_type": "stream",
     "text": [
      "Train on 20000 samples, validate on 5000 samples\n",
      "Epoch 1/10\n",
      "20000/20000 [==============================] - 112s 6ms/step - loss: 0.5084 - acc: 0.7643 - val_loss: 0.3586 - val_acc: 0.8672\n",
      "Epoch 2/10\n",
      "20000/20000 [==============================] - 81s 4ms/step - loss: 0.2899 - acc: 0.8873 - val_loss: 0.2943 - val_acc: 0.8770\n",
      "Epoch 3/10\n",
      "20000/20000 [==============================] - 81s 4ms/step - loss: 0.2349 - acc: 0.9114 - val_loss: 0.3062 - val_acc: 0.8860\n",
      "Epoch 4/10\n",
      "20000/20000 [==============================] - 82s 4ms/step - loss: 0.1953 - acc: 0.9275 - val_loss: 0.3070 - val_acc: 0.8644\n",
      "Epoch 5/10\n",
      "20000/20000 [==============================] - 83s 4ms/step - loss: 0.1770 - acc: 0.9338 - val_loss: 0.2907 - val_acc: 0.8872\n",
      "Epoch 6/10\n",
      "20000/20000 [==============================] - 83s 4ms/step - loss: 0.1561 - acc: 0.9439 - val_loss: 0.3577 - val_acc: 0.8752\n",
      "Epoch 7/10\n",
      "20000/20000 [==============================] - 83s 4ms/step - loss: 0.1406 - acc: 0.9505 - val_loss: 0.5298 - val_acc: 0.8572\n",
      "Epoch 8/10\n",
      "20000/20000 [==============================] - 83s 4ms/step - loss: 0.1287 - acc: 0.9558 - val_loss: 0.3218 - val_acc: 0.8766\n",
      "Epoch 9/10\n",
      "20000/20000 [==============================] - 83s 4ms/step - loss: 0.1176 - acc: 0.9587 - val_loss: 0.3719 - val_acc: 0.8654\n",
      "Epoch 10/10\n",
      "20000/20000 [==============================] - 83s 4ms/step - loss: 0.1078 - acc: 0.9610 - val_loss: 0.4041 - val_acc: 0.8788\n"
     ]
    }
   ],
   "source": [
    "model.compile(optimizer='rmsprop',loss='binary_crossentropy',metrics=['acc'])\n",
    "history=model.fit(input_train,y_train,epochs=10,batch_size=128,validation_split=0.2)"
   ]
  },
  {
   "cell_type": "code",
   "execution_count": 12,
   "metadata": {},
   "outputs": [
    {
     "data": {
      "image/png": "[encoded data removed]",
      "text/plain": [
       "<matplotlib.figure.Figure at 0x148ad8bd2e8>"
      ]
     },
     "metadata": {},
     "output_type": "display_data"
    },
    {
     "data": {
      "image/png": "[encoded data removed]",
      "text/plain": [
       "<matplotlib.figure.Figure at 0x148ad8fb080>"
      ]
     },
     "metadata": {},
     "output_type": "display_data"
    }
   ],
   "source": [
    "acc=history.history['acc']\n",
    "val_acc=history.history['val_acc']\n",
    "loss=history.history['loss']\n",
    "val_loss=history.history['val_loss']\n",
    "\n",
    "epochs=range(1,len(acc)+1)\n",
    "plt.plot(epochs,acc,'bo',label='Training acc')\n",
    "plt.plot(epochs,val_acc,'b',label='Validation acc')\n",
    "plt.title('Training and validation accuracy')\n",
    "plt.legend()\n",
    "\n",
    "plt.figure()\n",
    "plt.plot(epochs,loss,'bo',label='Training loss')\n",
    "plt.plot(epochs,val_loss,'b',label='Validation loss')\n",
    "plt.title('Training and validation loss')\n",
    "plt.legend()\n",
    "plt.show()"
   ]
  },
  {
   "cell_type": "code",
   "execution_count": null,
   "metadata": {},
   "outputs": [],
   "source": []
  }
 ],
 "metadata": {
  "kernelspec": {
   "display_name": "Python [conda env:tensorflow-gpu]",
   "language": "python",
   "name": "conda-env-tensorflow-gpu-py"
  },
  "language_info": {
   "codemirror_mode": {
    "name": "ipython",
    "version": 3
   },
   "file_extension": ".py",
   "mimetype": "text/x-python",
   "name": "python",
   "nbconvert_exporter": "python",
   "pygments_lexer": "ipython3",
   "version": "3.5.4"
  }
 },
 "nbformat": 4,
 "nbformat_minor": 2
}
