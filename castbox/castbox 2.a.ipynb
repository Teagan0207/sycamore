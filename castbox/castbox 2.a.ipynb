{
 "cells": [
  {
   "cell_type": "code",
   "execution_count": null,
   "metadata": {},
   "outputs": [],
   "source": [
    "%store -r linklst"
   ]
  },
  {
   "cell_type": "code",
   "execution_count": null,
   "metadata": {},
   "outputs": [],
   "source": [
    "import pandas as pd\n",
    "from bs4 import BeautifulSoup\n",
    "from lxml import html\n",
    "import time\n",
    "import selenium\n",
    "from selenium import webdriver\n",
    "from urllib2 import urlopen\n",
    "from selenium import webdriver\n",
    "from selenium.common.exceptions import TimeoutException\n",
    "import requests\n",
    "import unidecode"
   ]
  },
  {
   "cell_type": "code",
   "execution_count": null,
   "metadata": {},
   "outputs": [],
   "source": [
    "result2 = pd.DataFrame(columns=['Index','Name','Position','Episode Name','Episode date',\n",
    "                               'Duration','Episode Hearts'])"
   ]
  },
  {
   "cell_type": "code",
   "execution_count": null,
   "metadata": {},
   "outputs": [],
   "source": [
    "def get_num_epi(soup):\n",
    "\n",
    "    temp=soup.find('div',class_='trackListCon_title').text\n",
    "    temp=unidecode.unidecode(temp).split(' ')\n",
    "    return int(temp[0])"
   ]
  },
  {
   "cell_type": "code",
   "execution_count": null,
   "metadata": {},
   "outputs": [],
   "source": [
    "def scroll(driver):\n",
    "    driver.execute_script(\"\"\" \n",
    "        (function () { \n",
    "        \n",
    "            var y = document.body.scrollTop; \n",
    "            var step = 100; \n",
    "            window.scroll(0, y); \n",
    "            function f() { \n",
    "                if (y < document.body.scrollHeight) { \n",
    "                    y += step; \n",
    "                    window.scroll(0, y); \n",
    "                    setTimeout(f, 120); \n",
    "                }\n",
    "                else { \n",
    "                    window.scroll(0, y); \n",
    "                    document.title += \"scroll-done\"; \n",
    "                } \n",
    "            } \n",
    "            setTimeout(f, 1000); \n",
    "        })(); \n",
    "        \"\"\")"
   ]
  },
  {
   "cell_type": "code",
   "execution_count": null,
   "metadata": {},
   "outputs": [],
   "source": [
    "def open_driver(link,path=r'D:\\GA\\chromedriver.exe'):\n",
    "    global driver\n",
    "    driver = webdriver.Chrome(path) #chromedriver may need to be upgraded\n",
    "    driver.set_page_load_timeout(120)\n",
    "    driver.get(link)\n",
    "    scroll(driver)\n"
   ]
  },
  {
   "cell_type": "code",
   "execution_count": null,
   "metadata": {},
   "outputs": [],
   "source": [
    "%%time\n",
    "loopcount = 0\n",
    "for link in linklst:\n",
    "    r=requests.get(link)\n",
    "    soup = BeautifulSoup(r.content,'lxml')\n",
    "    name=soup.find('div',class_= 'ch_feed_info').find('h1').get('title')\n",
    "    count=get_num_epi(soup)\n",
    "    if count>10 :\n",
    "        open_driver(link)\n",
    "        if count>200:\n",
    "            print 'Ranking',loopcount,name,'with',count,'episodes'\n",
    "            time.sleep(240)\n",
    "        else:\n",
    "            time.sleep(30)\n",
    "        \n",
    "        html=driver.page_source\n",
    "        soup=BeautifulSoup(html,'lxml')\n",
    "               \n",
    "    episodes=soup.find_all('div',class_= 'trackRowBig-con')\n",
    "    for episode in episodes:\n",
    "        title=episode.find('a').find('p').get('title')\n",
    "        temp=episode.find('p',class_='trackRowBig-con-des').text\n",
    "        date=temp[:10]\n",
    "        dura=temp[10:18]\n",
    "        heart=temp[18:]\n",
    "        prepare=[loopcount,name,loopcount+1,title,date,dura,heart]\n",
    "        d = pd.DataFrame([prepare],columns=['Index','Name','Position','Episode Name','Episode date',\n",
    "                               'Duration','Episode Hearts'])\n",
    "        result2 = result2.append(d)\n",
    "    print 'Episodes for rank',loopcount+1,'show finished'\n",
    "    if loopcount%10 == 0:\n",
    "        time.sleep(3)\n",
    "    loopcount+=1"
   ]
  },
  {
   "cell_type": "code",
   "execution_count": null,
   "metadata": {},
   "outputs": [],
   "source": [
    "result2.to_csv('episodes.csv',encoding='utf8')"
   ]
  },
  {
   "cell_type": "code",
   "execution_count": null,
   "metadata": {},
   "outputs": [],
   "source": [
    "result2['Name'].value_counts()"
   ]
  },
  {
   "cell_type": "code",
   "execution_count": null,
   "metadata": {},
   "outputs": [],
   "source": []
  },
  {
   "cell_type": "code",
   "execution_count": null,
   "metadata": {},
   "outputs": [],
   "source": []
  }
 ],
 "metadata": {
  "kernelspec": {
   "display_name": "p2",
   "language": "python",
   "name": "p2"
  },
  "language_info": {
   "codemirror_mode": {
    "name": "ipython",
    "version": 2
   },
   "file_extension": ".py",
   "mimetype": "text/x-python",
   "name": "python",
   "nbconvert_exporter": "python",
   "pygments_lexer": "ipython2",
   "version": "2.7.13"
  }
 },
 "nbformat": 4,
 "nbformat_minor": 2
}
